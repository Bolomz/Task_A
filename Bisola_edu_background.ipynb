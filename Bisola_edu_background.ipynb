{
 "cells": [
  {
   "cell_type": "code",
   "execution_count": 3,
   "metadata": {},
   "outputs": [],
   "source": [
    "import pandas as pd\n",
    "from pandas import Series, DataFrame"
   ]
  },
  {
   "cell_type": "code",
   "execution_count": 1,
   "metadata": {},
   "outputs": [
    {
     "name": "stdout",
     "output_type": "stream",
     "text": [
      "Please fill in the appropriates below:\n",
      "Degree: B. Eng.\n",
      "Program: Mechanical Engineering\n",
      "School: KWASU\n",
      "Year of admission: 2017\n",
      "Year of graduation: 2022\n",
      "Other degrees: None\n"
     ]
    }
   ],
   "source": [
    "# Range of inputs\n",
    "a = input(\"Please fill in the appropriates below:\\nDegree: \");b = input(\"Program: \");c = input(\"School: \");d = input(\"Year of admission: \")\n",
    "e = input(\"Year of graduation: \");f = input('Other degrees: ')\n",
    "\n",
    "education = {'Degree ': a, 'Program ':b, 'School ': c,'Year of Admission ':d, 'Year of graduation ':e, 'Other degrees': f}"
   ]
  },
  {
   "cell_type": "code",
   "execution_count": 4,
   "metadata": {},
   "outputs": [
    {
     "data": {
      "text/html": [
       "<div>\n",
       "<style scoped>\n",
       "    .dataframe tbody tr th:only-of-type {\n",
       "        vertical-align: middle;\n",
       "    }\n",
       "\n",
       "    .dataframe tbody tr th {\n",
       "        vertical-align: top;\n",
       "    }\n",
       "\n",
       "    .dataframe thead th {\n",
       "        text-align: right;\n",
       "    }\n",
       "</style>\n",
       "<table border=\"1\" class=\"dataframe\">\n",
       "  <thead>\n",
       "    <tr style=\"text-align: right;\">\n",
       "      <th></th>\n",
       "      <th>Degree</th>\n",
       "      <th>Program</th>\n",
       "      <th>School</th>\n",
       "      <th>Year of Admission</th>\n",
       "      <th>Year of graduation</th>\n",
       "      <th>Other degrees</th>\n",
       "    </tr>\n",
       "  </thead>\n",
       "  <tbody>\n",
       "    <tr>\n",
       "      <th>1</th>\n",
       "      <td>B. Eng.</td>\n",
       "      <td>Mechanical Engineering</td>\n",
       "      <td>KWASU</td>\n",
       "      <td>2017</td>\n",
       "      <td>2022</td>\n",
       "      <td>None</td>\n",
       "    </tr>\n",
       "  </tbody>\n",
       "</table>\n",
       "</div>"
      ],
      "text/plain": [
       "   Degree                 Program  School  Year of Admission   \\\n",
       "1  B. Eng.  Mechanical Engineering   KWASU               2017   \n",
       "\n",
       "  Year of graduation  Other degrees  \n",
       "1                2022          None  "
      ]
     },
     "execution_count": 4,
     "metadata": {},
     "output_type": "execute_result"
    }
   ],
   "source": [
    "newdata = DataFrame(education,[1])\n",
    "newdata"
   ]
  },
  {
   "cell_type": "code",
   "execution_count": 5,
   "metadata": {},
   "outputs": [],
   "source": [
    "newdata.to_csv('Bisola_work_experience.csv', encoding='utf-8')"
   ]
  },
  {
   "cell_type": "code",
   "execution_count": 6,
   "metadata": {},
   "outputs": [
    {
     "data": {
      "text/html": [
       "<div>\n",
       "<style scoped>\n",
       "    .dataframe tbody tr th:only-of-type {\n",
       "        vertical-align: middle;\n",
       "    }\n",
       "\n",
       "    .dataframe tbody tr th {\n",
       "        vertical-align: top;\n",
       "    }\n",
       "\n",
       "    .dataframe thead th {\n",
       "        text-align: right;\n",
       "    }\n",
       "</style>\n",
       "<table border=\"1\" class=\"dataframe\">\n",
       "  <thead>\n",
       "    <tr style=\"text-align: right;\">\n",
       "      <th></th>\n",
       "      <th>Unnamed: 0</th>\n",
       "      <th>Degree</th>\n",
       "      <th>Program</th>\n",
       "      <th>School</th>\n",
       "      <th>Year of Admission</th>\n",
       "      <th>Year of graduation</th>\n",
       "      <th>Other degrees</th>\n",
       "    </tr>\n",
       "  </thead>\n",
       "  <tbody>\n",
       "    <tr>\n",
       "      <th>0</th>\n",
       "      <td>1</td>\n",
       "      <td>B. Eng.</td>\n",
       "      <td>Mechanical Engineering</td>\n",
       "      <td>KWASU</td>\n",
       "      <td>2017</td>\n",
       "      <td>2022</td>\n",
       "      <td>None</td>\n",
       "    </tr>\n",
       "  </tbody>\n",
       "</table>\n",
       "</div>"
      ],
      "text/plain": [
       "   Unnamed: 0  Degree                 Program  School   Year of Admission   \\\n",
       "0           1  B. Eng.  Mechanical Engineering   KWASU                2017   \n",
       "\n",
       "   Year of graduation  Other degrees  \n",
       "0                 2022          None  "
      ]
     },
     "execution_count": 6,
     "metadata": {},
     "output_type": "execute_result"
    }
   ],
   "source": [
    "pd.read_csv('Bisola_work_experience.csv')"
   ]
  },
  {
   "cell_type": "code",
   "execution_count": null,
   "metadata": {},
   "outputs": [],
   "source": []
  }
 ],
 "metadata": {
  "kernelspec": {
   "display_name": "Python 3",
   "language": "python",
   "name": "python3"
  },
  "language_info": {
   "codemirror_mode": {
    "name": "ipython",
    "version": 3
   },
   "file_extension": ".py",
   "mimetype": "text/x-python",
   "name": "python",
   "nbconvert_exporter": "python",
   "pygments_lexer": "ipython3",
   "version": "3.7.4"
  }
 },
 "nbformat": 4,
 "nbformat_minor": 4
}
